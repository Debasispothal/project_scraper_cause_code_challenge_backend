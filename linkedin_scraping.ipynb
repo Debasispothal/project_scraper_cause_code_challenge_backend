{
 "cells": [
  {
   "cell_type": "code",
   "execution_count": 1,
   "metadata": {},
   "outputs": [],
   "source": [
    "import pandas as pd\n",
    "import time\n",
    "from selenium.webdriver.common.keys import Keys"
   ]
  },
  {
   "cell_type": "code",
   "execution_count": 2,
   "metadata": {},
   "outputs": [],
   "source": [
    "from bs4 import BeautifulSoup"
   ]
  },
  {
   "cell_type": "code",
   "execution_count": 3,
   "metadata": {},
   "outputs": [],
   "source": [
    "from selenium import webdriver"
   ]
  },
  {
   "cell_type": "code",
   "execution_count": 4,
   "metadata": {},
   "outputs": [],
   "source": [
    "driver = webdriver.Chrome(executable_path = 'C:\\\\Users\\\\lenovo\\\\Desktop\\\\scrapping\\\\chromedriver_win32\\\\chromedriver.exe')\n"
   ]
  },
  {
   "cell_type": "code",
   "execution_count": 5,
   "metadata": {},
   "outputs": [],
   "source": [
    "driver.get('https://www.linkedin.com')\n",
    "sign_in = driver.find_element_by_class_name('nav__button-secondary')\n",
    "sign_in.click()\n",
    "time.sleep(5)\n",
    "user = driver.find_element_by_id('username')\n",
    "user.send_keys('debasihpothal@gmail.com')\n",
    "password = driver.find_element_by_id('password')\n",
    "password.send_keys('*********')\n",
    "but = driver.find_element_by_xpath('//*[@type=\"submit\"]')\n",
    "but.click()"
   ]
  },
  {
   "cell_type": "code",
   "execution_count": null,
   "metadata": {},
   "outputs": [],
   "source": []
  },
  {
   "cell_type": "code",
   "execution_count": null,
   "metadata": {},
   "outputs": [],
   "source": []
  },
  {
   "cell_type": "code",
   "execution_count": 82,
   "metadata": {},
   "outputs": [],
   "source": [
    "driver.get('https://www.google.com')\n",
    "search = driver.find_element_by_name('q')\n",
    "search.send_keys('site:linkedin.com/in/ AND \"Software developer\" AND \"India\"')"
   ]
  },
  {
   "cell_type": "code",
   "execution_count": 83,
   "metadata": {},
   "outputs": [],
   "source": [
    "search.send_keys(Keys.RETURN)"
   ]
  },
  {
   "cell_type": "code",
   "execution_count": 86,
   "metadata": {},
   "outputs": [
    {
     "name": "stdout",
     "output_type": "stream",
     "text": [
      "https://in.linkedin.com/in/saksham-kumar-a11b3948\n",
      "https://in.linkedin.com/in/kundal-singh-9450986a\n",
      "https://in.linkedin.com/in/khargesh-kumar-b1290433\n",
      "https://in.linkedin.com/in/sambitraj-sahoo-a9b26093\n",
      "https://in.linkedin.com/in/ajay-nigade-021a90178\n",
      "https://in.linkedin.com/in/m-akhil-vishnu-499bb5113\n",
      "https://in.linkedin.com/in/amrutansu-bej-667099112\n",
      "https://in.linkedin.com/in/sandhya-a-80308a121\n",
      "https://in.linkedin.com/in/darshanjit-singh-69044619\n",
      "https://in.linkedin.com/in/ankit-goyal-45166b65\n"
     ]
    }
   ],
   "source": [
    "url=[]\n",
    "div = driver.find_elements_by_class_name('r')\n",
    "for i in div:\n",
    "    m=i.find_element_by_css_selector('a').get_attribute('href')\n",
    "    #print(m)\n",
    "    url.append(m)"
   ]
  },
  {
   "cell_type": "code",
   "execution_count": 85,
   "metadata": {},
   "outputs": [],
   "source": [
    "from parsel import Selector\n",
    "import csv"
   ]
  },
  {
   "cell_type": "code",
   "execution_count": 12,
   "metadata": {},
   "outputs": [],
   "source": [
    "con=1\n",
    "for m in range(0,5):\n",
    "    #con=1\n",
    "    for i in url:\n",
    "        x=i\n",
    "        site = driver.get(x)\n",
    "        sel = Selector(text = driver.page_source)\n",
    "        name = sel.xpath('//*[starts-with(@class,\"inline t-24 t-black t-normal break-words\")]/text()').extract_first()\n",
    "        designation = sel.xpath('//*[starts-with(@class,\"mt1 t-18 t-black t-normal\")]/text()').extract_first()\n",
    "        location = sel.xpath('//*[starts-with(@class,\"t-16 t-black t-normal inline-block\")]/text()').extract_first()\n",
    "        with open('solution.csv',mode='a') as file:\n",
    "            if con==1:\n",
    "                con=4\n",
    "                name1 = ['Name','Designation','Location','Linkedin url']\n",
    "                write = csv.DictWriter(file,fieldnames = name1)\n",
    "                write.writeheader()\n",
    "                if name and designation!=\"\" and location!=\"\":\n",
    "                    write.writerow({'Name':name,'Designation':designation,'Location':location,'Linkedin url':x})\n",
    "            #print(con)\n",
    "            else:\n",
    "                name1 = ['Name','Designation','Location','Linkedin url']\n",
    "                write = csv.DictWriter(file,fieldnames = name1)\n",
    "                if name and designation!=\"\" and location!=\"\":\n",
    "                    write.writerow({'Name':name,'Designation':designation,'Location':location,'Linkedin url':x})\n",
    "        file.close()\n",
    "    driver.get('https://www.google.com')    \n",
    "    search = driver.find_element_by_name('q')\n",
    "    search.send_keys('site:linkedin.com/in/ AND \"Software developer\" AND \"India\"')\n",
    "    search.send_keys(Keys.RETURN)\n",
    "    p=0\n",
    "    while p<=m:\n",
    "        link = driver.find_element_by_link_text('Next')\n",
    "        link.click()\n",
    "        p+=1\n",
    "    url=[]\n",
    "    div = driver.find_elements_by_class_name('r')\n",
    "    for i in div:\n",
    "        m=i.find_element_by_css_selector('a').get_attribute('href')\n",
    "        #print(m)\n",
    "        url.append(m)\n"
   ]
  },
  {
   "cell_type": "code",
   "execution_count": null,
   "metadata": {},
   "outputs": [],
   "source": []
  }
 ],
 "metadata": {
  "kernelspec": {
   "display_name": "Python 3",
   "language": "python",
   "name": "python3"
  },
  "language_info": {
   "codemirror_mode": {
    "name": "ipython",
    "version": 3
   },
   "file_extension": ".py",
   "mimetype": "text/x-python",
   "name": "python",
   "nbconvert_exporter": "python",
   "pygments_lexer": "ipython3",
   "version": "3.6.4"
  }
 },
 "nbformat": 4,
 "nbformat_minor": 2
}
