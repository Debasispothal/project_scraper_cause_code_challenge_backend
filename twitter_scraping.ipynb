{
 "cells": [
  {
   "cell_type": "code",
   "execution_count": 1,
   "metadata": {},
   "outputs": [],
   "source": [
    "import pandas as pd\n",
    "import time\n",
    "from bs4 import BeautifulSoup\n",
    "import csv\n",
    "from selenium import webdriver\n",
    "from selenium.webdriver.common.keys import Keys\n",
    "driver = webdriver.Chrome(executable_path = 'chromedriver.exe')\n"
   ]
  },
  {
   "cell_type": "code",
   "execution_count": 2,
   "metadata": {},
   "outputs": [],
   "source": [
    "twi = driver.get('https://twitter.com/login')\n",
    "time.sleep(3)\n",
    "password = driver.find_element_by_class_name('js-password-field')\n",
    "password.send_keys('*********')\n",
    "user_name = driver.find_element_by_class_name('js-username-field.email-input.js-initial-focus')\n",
    "user_name.send_keys('*********')\n",
    "but = driver.find_element_by_class_name('submit.EdgeButton.EdgeButton--primary.EdgeButtom--medium')\n",
    "but.click()"
   ]
  },
  {
   "cell_type": "code",
   "execution_count": 3,
   "metadata": {},
   "outputs": [
    {
     "name": "stdout",
     "output_type": "stream",
     "text": [
      ]
    }
   ],
   "source": [
    "space_agency=['isro','nasa','spacex']\n",
    "for space in space_agency:\n",
    "    x=0\n",
    "    y=3000\n",
    "    url = 'https://twitter.com/'+space\n",
    "    site = driver.get(url)\n",
    "    dataset=set()\n",
    "    time.sleep(8)\n",
    "    for _ in range(0,6):\n",
    "        m=driver.find_elements_by_class_name('css-1dbjc4n.r-18u37iz.r-thb0q2')\n",
    "        for i in m:\n",
    "            ul = i.text.split('\\n')\n",
    "            if len(ul)>=7:\n",
    "                dataset.add(i.text)\n",
    "        driver.execute_script(\"window.scrollTo(\"+str(x)+\",\"+str(y)+\")\")\n",
    "        x=y\n",
    "        y+=3000\n",
    "        time.sleep(8)\n",
    "    con=1\n",
    "    for i in dataset:\n",
    "        li=i.split('\\n')\n",
    "        name=li[0]\n",
    "        twitter_name=li[1]\n",
    "        date = li[3]\n",
    "        likes=li[-1]\n",
    "        retweet = li[-2]\n",
    "        comment = li[-3]\n",
    "        content = li[4:len(li)-3]\n",
    "        #print(name+ twitter_name+likes)\n",
    "        text=''\n",
    "        for j in content:\n",
    "            text+=j\n",
    "        text=text.encode(\"utf-8\")    \n",
    "        with open('twitter_data.csv',mode='a') as file:\n",
    "            if con==1:\n",
    "                name1=['Name','Twitter name','Tweet','Date','Likes','Comment','Retweet']\n",
    "                write = csv.DictWriter(file,fieldnames = name1)\n",
    "                write.writeheader()\n",
    "                #print(str(name)+str(twitter_name)+str(text)+str(date)+str(likes)+str(comment)+str(retweet))\n",
    "                write.writerow({'Name':name,'Twitter name':twitter_name,'Tweet':text,'Date':date,'Likes':likes,'Comment':comment,'Retweet':retweet})\n",
    "                con=2\n",
    "            else:\n",
    "                name1=['Name','Twitter name','Tweet','Date','Likes','Comment','Retweet']\n",
    "                write = csv.DictWriter(file,fieldnames = name1)\n",
    "                #print(str(name)+str(twitter_name)+str(text)+str(date)+str(likes)+str(comment)+str(retweet))\n",
    "                write.writerow({'Name':name,'Twitter name':twitter_name,'Tweet':text,'Date':date,'Likes':likes,'Comment':comment,'Retweet':retweet})\n",
    "        file.close() \n",
    "     \n",
    "    "
   ]
  },
  {
   "cell_type": "code",
   "execution_count": null,
   "metadata": {},
   "outputs": [],
   "source": []
  },
  {
   "cell_type": "code",
   "execution_count": null,
   "metadata": {},
   "outputs": [],
   "source": []
  },
  {
   "cell_type": "code",
   "execution_count": null,
   "metadata": {},
   "outputs": [],
   "source": []
  }
 ],
 "metadata": {
  "kernelspec": {
   "display_name": "Python 3",
   "language": "python",
   "name": "python3"
  },
  "language_info": {
   "codemirror_mode": {
    "name": "ipython",
    "version": 3
   },
   "file_extension": ".py",
   "mimetype": "text/x-python",
   "name": "python",
   "nbconvert_exporter": "python",
   "pygments_lexer": "ipython3",
   "version": "3.6.4"
  }
 },
 "nbformat": 4,
 "nbformat_minor": 2
}
