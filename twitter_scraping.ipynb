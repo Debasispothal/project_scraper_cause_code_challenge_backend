{
 "cells": [
  {
   "cell_type": "code",
   "execution_count": 1,
   "metadata": {},
   "outputs": [],
   "source": [
    "import pandas as pd\n",
    "import time\n",
    "from bs4 import BeautifulSoup\n",
    "import csv\n",
    "from selenium import webdriver\n",
    "from selenium.webdriver.common.keys import Keys\n",
    "driver = webdriver.Chrome(executable_path = 'chromedriver.exe')\n"
   ]
  },
  {
   "cell_type": "code",
   "execution_count": 2,
   "metadata": {},
   "outputs": [],
   "source": [
    "twi = driver.get('https://twitter.com/login')\n",
    "time.sleep(3)\n",
    "password = driver.find_element_by_class_name('js-password-field')\n",
    "password.send_keys('*********')\n",
    "user_name = driver.find_element_by_class_name('js-username-field.email-input.js-initial-focus')\n",
    "user_name.send_keys('*********')\n",
    "but = driver.find_element_by_class_name('submit.EdgeButton.EdgeButton--primary.EdgeButtom--medium')\n",
    "but.click()"
   ]
  },
  {
   "cell_type": "code",
   "execution_count": 3,
   "metadata": {},
   "outputs": [
    {
     "name": "stdout",
     "output_type": "stream",
     "text": [
      "SpaceX@SpaceXb'The booster supporting this mission previously flew in support of the Telstar 19 VANTAGE and Es\\xe2\\x80\\x99hail-2 missions'Aug 111.5K113941\n",
      "SpaceX@SpaceXb'SpaceX is expanding its launch services to directly address the needs of small satellite operators through regularly scheduled, dedicated Falcon 9 rideshare missions \\xe2\\x86\\x92 http://spacex.com/smallsat0:33745.9K views'Aug 519.5K4262.5K\n",
      "Elon Musk@elonmuskb'Dragon Crew Arm. Astronauts will walk this gantry to enter Dragon & depart for the @Space_Station.'Aug 2840.1K9283.5K\n",
      "SpaceX@SpaceXb'Live views of Starhopper test150 Meter Starhopper TestLive views of SpaceX\\xe2\\x80\\x99s upcoming Starhopper test hop in Boca Chica Beach, TX.youtube.com'Aug 275.4K3451.3K\n",
      "NASA Commercial Crew@Commercial_Crewb'As part of our program, @SpaceX has been testing the #CrewDragon parachute system, which consists of two drogue parachutes and four main ring-sail parachutes\\xe2\\x80\\x94the same type of parachutes that have been commonly used for human spaceflight in the past: https://go.nasa.gov/2LE2ALb1:37353.7K views'Sep 198.4K155989\n",
      "SpaceX@SpaceXb\"Dragon's de-orbit burn is complete and its trunk has been jettisoned; Pacific Ocean splashdown in ~30 minutes\"Aug 283.4K44304\n",
      "SpaceX@SpaceXb'SpaceX is expanding its launch services to directly address the needs of small satellite operators through regularly scheduled, dedicated Falcon 9 rideshare missions \\xe2\\x86\\x92 http://spacex.com/smallsat0:24745.9K views'Aug 519.5K4262.5K\n",
      "SpaceX@SpaceXb\"Dragon will re-enter Earth's atmosphere in ~5 hours; Pacific Ocean splashdown around 1:20 p.m. PDT\"Aug 274.6K70477\n",
      "SpaceX@SpaceXb'Starhopper flight test drone footage0:523.2M views'Aug 29104.4K1.8K19.4K\n",
      "SpaceX@SpaceXb'T-30 minutes until Falcon 9 launch of AMOS-17 \\xe2\\x86\\x92 http://spacex.com/webcast'Aug 72.7K67464\n",
      "Elon Musk@elonmuskb'Congrats SpaceX team!!'Aug 2853.1K1.2K6.4K\n",
      "SpaceX@SpaceXb\"Fired together at full throttle, Crew Dragon's eight SuperDracos can move the spacecraft 0.5 miles\\xe2\\x80\\x94the length of over 7 American football fields lined up end to end\\xe2\\x80\\x94in 7.5 seconds, reaching a peak velocity of 436 mph\"Sep 125.1K131455\n",
      "SpaceX@SpaceXb'Dragon has been released from the @Space_Station! Three departure burns are now underway \\xe2\\x86\\x92 http://nasa.gov/nasatv'Aug 277.3K120572\n",
      "SpaceX@SpaceXb\"Starhopper cam now live150 Meter Starhopper TestStarhopper's test flight in Boca Chica, TX.youtube.com\"Aug 288K5581.4K\n",
      "NASA@NASAb\"LIVE NOW: Tune in as robotic flight controllers at mission control in Houston release the #Dragon! After spending one month at the @Space_Station, @SpaceX's Dragon cargo craft departs with ~3,300 pounds of science bound for Earth at 10:59am ET. Watch: https://go.nasa.gov/2HscoFG\"Aug 274.2K60590\n",
      "SpaceX@SpaceXb'Team in McGregor, Texas completed a static fire test today of the Falcon 9 booster that will launch Crew Dragon with @NASA astronauts @AstroBehnken and @Astro_Doug to the @space_stationNASA Commercial Crew'Aug 3022.7K3552.4K\n",
      "SpaceX@SpaceXb\"Ahead of our in-flight abort test for @Commercial_Crew\\xe2\\x80\\x94which will demonstrate Crew Dragon's ability to safely carry astronauts away from the rocket in the unlikely event of an emergency\\xe2\\x80\\x94our team has completed over 700 tests of the spacecraft's SuperDraco engines0:34445.4K views\"Sep 1223.8K3584.3K\n",
      "SpaceX@SpaceXb'The three departure burns to move Dragon away from the @Space_Station are complete'Aug 272.7K24179\n",
      "SpaceX@SpaceXb'Main engine cutoff and stage separation confirmed. Second stage engine burn underway'Aug 74.4K53490\n",
      "SpaceX@SpaceXb'Static fire test of Falcon 9 complete\\xe2\\x80\\x94team is now working toward August 6 for launch of AMOS-17 from Pad 40 in Florida, pending Range availability'Aug 45.8K78605\n",
      "SpaceX@SpaceXb'Team is setting up an additional static fire test of Falcon 9 after replacing a suspect valve. Will confirm updated target launch date for AMOS-17 once complete.'Aug 25.6K87495\n",
      "SpaceX@SpaceXb\"Dragon's main parachutes have been deployed\"Aug 283.9K33227\n",
      "SpaceX@SpaceXb'Good splashdown of Dragon confirmed, completing this spacecraft\\xe2\\x80\\x99s third mission to and from the @space_station!'Aug 288K129723\n",
      "SpaceX@SpaceXb'T-60 seconds until launch \\xe2\\x86\\x92 http://spacex.com/webcast'Aug 72.9K29333\n",
      "SpaceX@SpaceXb'Liftoff!'Aug 722.5K1712.7K\n",
      "SpaceX@SpaceXb'First Dragon to complete three missions to and from the @space_station'Aug 2818.9K2361.9K\n",
      "SpaceX@SpaceXb'Falcon 9 and AMOS-17 are vertical on Pad 40 in Florida. Weather is 40% favorable for tonight\\xe2\\x80\\x99s launch window, which opens at 6:53 p.m. EDT, or 22:53 UTC \\xe2\\x86\\x92 http://spacex.com/webcast'Aug 65.7K122883\n",
      "SpaceX@SpaceXb\"Dragon's drogue chutes deployed nominally\"Aug 283.1K35144\n",
      "SpaceX@SpaceXb'Team is targeting a new T-0 of 7:23 p.m. EDT, 23:23 UTC for launch of AMOS-17; continuing to monitor weather conditions at the Cape. Vehicle and payload still look good for launch.'Aug 73.4K88507\n",
      "SpaceX@SpaceXb'Webcast of AMOS-17 mission is now live \\xe2\\x86\\x92 http://spacex.com/webcast'Aug 74.2K73650\n",
      "SpaceX@SpaceXb'Dragon will depart the @Space_Station tomorrow with approximately 3,300 pounds of cargo at about 7:40 a.m. PDT Quote TweetISS Research@ISS_Research \\xc2\\xb7 Aug 27Just a month ago, SpaceX\\xe2\\x80\\x99s Dragon capsule arrived at the @Space_Station. On Aug 27., it\\xe2\\x80\\x99s time for the Dragon to come home. Research taking the ride back to Earth includes VR footage and samples that could help us better understand Parkinson\\xe2\\x80\\x99s. Learn more: go.nasa.gov/340xd4E'Aug 274.8K73652\n",
      "Intl. Space Station@Space_Stationb'To accommodate better lighting conditions today, the @SpaceX #Dragon cargo craft is now scheduled to leave the station at 10:59am ET today. #AskNASA | https://nasa.govQuote TweetSpaceX@SpaceX \\xc2\\xb7 Aug 27Dragon will depart the @Space_Station tomorrow with approximately 3,300 pounds of cargo at about 7:40 a.m. PDT https://twitter.com/ISS_Research/status/1166088425826639872\\xe2\\x80\\xa6'Aug 273.6K39402\n"
     ]
    }
   ],
   "source": [
    "space_agency=['isro','nasa','spacex']\n",
    "for space in space_agency:\n",
    "    x=0\n",
    "    y=3000\n",
    "    url = 'https://twitter.com/'+space\n",
    "    site = driver.get(url)\n",
    "    dataset=set()\n",
    "    time.sleep(8)\n",
    "    for _ in range(0,6):\n",
    "        m=driver.find_elements_by_class_name('css-1dbjc4n.r-18u37iz.r-thb0q2')\n",
    "        for i in m:\n",
    "            ul = i.text.split('\\n')\n",
    "            if len(ul)>=7:\n",
    "                dataset.add(i.text)\n",
    "        driver.execute_script(\"window.scrollTo(\"+str(x)+\",\"+str(y)+\")\")\n",
    "        x=y\n",
    "        y+=3000\n",
    "        time.sleep(8)\n",
    "    con=1\n",
    "    for i in dataset:\n",
    "        li=i.split('\\n')\n",
    "        name=li[0]\n",
    "        twitter_name=li[1]\n",
    "        date = li[3]\n",
    "        likes=li[-1]\n",
    "        retweet = li[-2]\n",
    "        comment = li[-3]\n",
    "        content = li[4:len(li)-3]\n",
    "        #print(name+ twitter_name+likes)\n",
    "        text=''\n",
    "        for j in content:\n",
    "            text+=j\n",
    "        text=text.encode(\"utf-8\")    \n",
    "        with open('twitter_data.csv',mode='a') as file:\n",
    "            if con==1:\n",
    "                name1=['Name','Twitter name','Tweet','Date','Likes','Comment','Retweet']\n",
    "                write = csv.DictWriter(file,fieldnames = name1)\n",
    "                write.writeheader()\n",
    "                #print(str(name)+str(twitter_name)+str(text)+str(date)+str(likes)+str(comment)+str(retweet))\n",
    "                write.writerow({'Name':name,'Twitter name':twitter_name,'Tweet':text,'Date':date,'Likes':likes,'Comment':comment,'Retweet':retweet})\n",
    "                con=2\n",
    "            else:\n",
    "                name1=['Name','Twitter name','Tweet','Date','Likes','Comment','Retweet']\n",
    "                write = csv.DictWriter(file,fieldnames = name1)\n",
    "                #print(str(name)+str(twitter_name)+str(text)+str(date)+str(likes)+str(comment)+str(retweet))\n",
    "                write.writerow({'Name':name,'Twitter name':twitter_name,'Tweet':text,'Date':date,'Likes':likes,'Comment':comment,'Retweet':retweet})\n",
    "        file.close() \n",
    "     \n",
    "    "
   ]
  },
  {
   "cell_type": "code",
   "execution_count": null,
   "metadata": {},
   "outputs": [],
   "source": []
  },
  {
   "cell_type": "code",
   "execution_count": null,
   "metadata": {},
   "outputs": [],
   "source": []
  },
  {
   "cell_type": "code",
   "execution_count": null,
   "metadata": {},
   "outputs": [],
   "source": []
  }
 ],
 "metadata": {
  "kernelspec": {
   "display_name": "Python 3",
   "language": "python",
   "name": "python3"
  },
  "language_info": {
   "codemirror_mode": {
    "name": "ipython",
    "version": 3
   },
   "file_extension": ".py",
   "mimetype": "text/x-python",
   "name": "python",
   "nbconvert_exporter": "python",
   "pygments_lexer": "ipython3",
   "version": "3.6.4"
  }
 },
 "nbformat": 4,
 "nbformat_minor": 2
}
